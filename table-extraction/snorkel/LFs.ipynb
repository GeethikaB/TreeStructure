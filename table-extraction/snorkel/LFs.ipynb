{
 "cells": [
  {
   "cell_type": "markdown",
   "metadata": {
    "deletable": true,
    "editable": true
   },
   "source": [
    "**Labeling Functions for Table Detection**"
   ]
  },
  {
   "cell_type": "code",
   "execution_count": 1,
   "metadata": {
    "collapsed": false,
    "deletable": true,
    "editable": true
   },
   "outputs": [],
   "source": [
    "## Create candidates and store corresponding elems\n",
    "import os\n",
    "import pickle\n",
    "import sys\n",
    "\n",
    "sys.path.append(\"/home/pabajaj/TreeStructure/\")\n",
    "sys.path.append(\"/home/pabajaj/TreeStructure/table-extraction/\")\n",
    "os.environ['DATAPATH'] = \"/home/pabajaj/data_model/paleo/\"\n",
    "\n",
    "import numpy as np\n",
    "from ml.TableExtractML import TableExtractorML\n",
    "from sklearn import linear_model, preprocessing, metrics\n",
    "from utils.bbox_utils import doOverlap, compute_iou, isContained\n",
    "from ml.features import get_mentions_within_bbox, get_lines_within_bbox\n",
    "from ml.extract_tables import get_bboxes_from_line\n",
    "\n",
    "sys.path.append(\"/home/pabajaj/TreeStructure/\")\n",
    "os.environ['DATAPATH'] = \"/home/pabajaj/data_model/paleo/\"\n",
    "pdf_list = \"/home/pabajaj/TreeStructure/data/paleo/ml/train.pdf.list.paleo.not.scanned\"\n",
    "gt_list = \"/home/pabajaj/TreeStructure/data/paleo/ml/gt.train\"\n"
   ]
  },
  {
   "cell_type": "code",
   "execution_count": 2,
   "metadata": {
    "collapsed": false,
    "deletable": true,
    "editable": true
   },
   "outputs": [],
   "source": [
    "def get_candidates(pdf_list, gt_list):\n",
    "    elems = {}\n",
    "    font_stats = {}\n",
    "    candidates = {}\n",
    "    labels = {}\n",
    "    pdf_files = [pdf_file.rstrip() for pdf_file in open(pdf_list).readlines()]\n",
    "    gt = [gt.rstrip() for gt in open(gt_list).readlines()]\n",
    "    for i, pdf_file in enumerate(pdf_files):\n",
    "        print i, pdf_file\n",
    "        if i % 10 == 0:\n",
    "            print \"{} documents processed out of {}\".format(i, len(pdf_files))\n",
    "        gt_tables = get_bboxes_from_line(gt[i])\n",
    "        extractor = TableExtractorML(os.environ['DATAPATH'] + pdf_file)\n",
    "        try:\n",
    "            is_scanned = extractor.get_scanned()\n",
    "        except:\n",
    "            continue\n",
    "        if(not is_scanned):\n",
    "            elems[pdf_file] = extractor.get_elems()\n",
    "            font_stats[pdf_file] = extractor.get_font_stats()\n",
    "            #The first entry of the candidates is the page_num\n",
    "            candidates[pdf_file] = extractor.get_candidates()\n",
    "            labels[pdf_file] = extractor.get_labels(gt_tables)\n",
    "    return elems, font_stats, candidates, lables"
   ]
  },
  {
   "cell_type": "code",
   "execution_count": 3,
   "metadata": {
    "collapsed": true,
    "deletable": true,
    "editable": true
   },
   "outputs": [],
   "source": [
    "def LF_table_keyword(c,mentions):\n",
    "    for mention in mentions:\n",
    "        if(\"table\" in mention.get_text().lower()):\n",
    "            return 1\n",
    "    return 0\n",
    "\n",
    "def LF_fig_keyword(c,mentions):\n",
    "    for mention in mentions:\n",
    "        if(\"fig\" in mention.get_text().lower() or \"fig\" in mention.get_text().lower()):\n",
    "            return -1\n",
    "    return 0"
   ]
  },
  {
   "cell_type": "code",
   "execution_count": null,
   "metadata": {
    "collapsed": false,
    "deletable": true,
    "editable": true
   },
   "outputs": [
    {
     "name": "stdout",
     "output_type": "stream",
     "text": [
      "0 1-s2.0-S0009254102001183-main.pdf\n",
      "0 documents processed out of 133\n",
      "1 1-s2.0-S0009254112000095-main.pdf\n",
      "2 1-s2.0-S0009254197001472-main.pdf\n",
      "3 1-s2.0-S0012821X1300407X-main.pdf\n",
      "4 1-s2.0-S0012825208001244-main.pdf\n",
      "5 1-s2.0-S0016703702013194-main.pdf\n",
      "6 1-s2.0-S0016703707007326-main.pdf\n",
      "7 1-s2.0-S0016703712006989-main.pdf\n",
      "8 1-s2.0-S0016703715002781-main.pdf\n",
      "9 1-s2.0-S0024493711001095-main.pdf\n",
      "10 1-s2.0-S0031018203007545-main.pdf\n",
      "10 documents processed out of 133\n",
      "11 1-s2.0-S0031018207003203-main.pdf\n",
      "12 1-s2.0-S0031018210005924-main.pdf\n",
      "13 1-s2.0-S0031018212004889-main.pdf\n",
      "14 1-s2.0-S003101821500111X-main.pdf\n",
      "15 1-s2.0-S0031018297000485-main.pdf\n",
      "16 1-s2.0-S0037073801001440-main.pdf\n",
      "17 1-s2.0-S0098300413000368-main.pdf\n",
      "18 1-s2.0-S0146638009001843-main.pdf\n",
      "19 1-s2.0-S0191814114001692-main.pdf\n",
      "20 1-s2.0-S0264817209002323-main.pdf\n",
      "20 documents processed out of 133\n",
      "21 1-s2.0-S0277379111001879-main.pdf\n",
      "22 1-s2.0-S0301926806002701-main.pdf\n",
      "23 1-s2.0-S0377027312002557-main.pdf\n",
      "24 1-s2.0-S0883292711003362-main.pdf\n",
      "25 1-s2.0-S0924796309002978-main.pdf\n",
      "26 1-s2.0-S1342937X13004115-main.pdf\n",
      "27 1-s2.0-S1873965210000289-main.pdf\n",
      "28 1-s2.0-S2213397616300040-main.pdf\n",
      "29 59.full.pdf\n",
      "30 Billups_et_al-2004-Paleoceanography.pdf\n",
      "30 documents processed out of 133\n",
      "31 JIANG_et_al-2007-Sedimentology.pdf\n",
      "32 MCPHERSON_et_al-2007-Geofluids.pdf\n",
      "33 Zapata-Rios_et_al-2015-Water_Resources_Research.pdf\n",
      "34 1-s2.0-S0009254111000325-main.pdf\n",
      "35 1-s2.0-S0009254112003312-main.pdf\n",
      "36 1-s2.0-S0012821X05006485-main.pdf\n",
      "37 1-s2.0-S0012821X13004391-main.pdf\n",
      "38 1-s2.0-S0012825209000518-main.pdf\n",
      "39 1-s2.0-S0016703703002096-main.pdf\n",
      "40 1-s2.0-S0016703709003597-main.pdf\n",
      "40 documents processed out of 133\n",
      "41 1-s2.0-S0016703714002981-main.pdf\n",
      "42 1-s2.0-S0016703715003671-main.pdf\n",
      "43 1-s2.0-S0024493712002101-main.pdf\n",
      "44 1-s2.0-S0031018205003883-main.pdf\n",
      "45 1-s2.0-S0031018207005998-main.pdf\n",
      "46 1-s2.0-S0031018210006152-main.pdf\n",
      "47 1-s2.0-S0031018213000862-main.pdf\n",
      "48 1-s2.0-S0031018215001893-main.pdf\n",
      "49 1-s2.0-S003101829800159X-main.pdf\n",
      "50 1-s2.0-S0037073805001922-main.pdf\n",
      "50 documents processed out of 133\n",
      "51 1-s2.0-S0146638000000899-main.pdf\n",
      "52 1-s2.0-S0146638099001321-main.pdf\n",
      "53 1-s2.0-S0195667104001120-main.pdf\n",
      "54 1-s2.0-S0264817213002948-main.pdf\n",
      "55 1-s2.0-S0277379114004004-main.pdf\n",
      "56 1-s2.0-S030192681300096X-main.pdf\n",
      "57 1-s2.0-S0377839814001212-main.pdf\n",
      "58 1-s2.0-S0883292713002308-main.pdf\n",
      "59 1-s2.0-S1342937X05707309-main.pdf\n",
      "60 1-s2.0-S1464343X10000865-main.pdf\n",
      "60 documents processed out of 133\n",
      "61 1-s2.0-S1875510015000591-main.pdf\n",
      "62 1003.full.pdf\n",
      "63 871.full.pdf\n",
      "64 CLAIRE_et_al-2006-Geobiology.pdf\n",
      "65 Ketzer_et_al-2003-Sedimentology.pdf\n",
      "66 MIZUOCHI_et_al-2010-Journal_of_Metamorphic_Geology.pdf\n",
      "67 1-s2.0-S0009254111001070-main.pdf\n",
      "68 1-s2.0-S000925411200438X-main.pdf\n",
      "69 1-s2.0-S0012821X06003013-main.pdf\n",
      "70 1-s2.0-S0012821X14005020-main.pdf\n",
      "70 documents processed out of 133\n",
      "71 1-s2.0-S0012825215300568-main.pdf\n",
      "72 1-s2.0-S0016703705002796-main.pdf\n",
      "73 1-s2.0-S0016703710002413-main.pdf\n",
      "74 1-s2.0-S0016703714004682-main.pdf\n",
      "75 1-s2.0-S0016706114003747-main.pdf\n",
      "76 1-s2.0-S0024493714001212-main.pdf\n",
      "77 1-s2.0-S003101820500475X-main.pdf\n",
      "78 1-s2.0-S0031018208002253-main.pdf\n",
      "79 1-s2.0-S0031018211001428-main.pdf\n",
      "80 1-s2.0-S0031018213004720-main.pdf\n",
      "80 documents processed out of 133\n"
     ]
    }
   ],
   "source": [
    "pdf_list = \"/home/pabajaj/TreeStructure/data/paleo/ml/train.pdf.list.paleo.not.scanned\"\n",
    "gt_list = \"/home/pabajaj/TreeStructure/data/paleo/ml/gt.train\"\n",
    "\n",
    "elems, font_stats, candidates, labels = get_candidates(pdf_list, gt_list)\n",
    "\n"
   ]
  },
  {
   "cell_type": "code",
   "execution_count": null,
   "metadata": {
    "collapsed": true
   },
   "outputs": [],
   "source": [
    "num_candidates = [1 for c in can]"
   ]
  },
  {
   "cell_type": "code",
   "execution_count": null,
   "metadata": {
    "collapsed": true,
    "deletable": true,
    "editable": true
   },
   "outputs": [],
   "source": [
    "def coverage(lf_labels, gt_labels):\n",
    "def accuracy(lf_labels, gt_labels):\n",
    "\n",
    "lf_labels = {}\n",
    "for pdf_file in candidates.keys():\n",
    "    for c in candidates[pdf_file]:\n",
    "        elems_c = get_mentions_within_box(c, elems[pdf_file][c[0]])\n",
    "        print LF_table_keyword(c, elems_c.mentions)"
   ]
  }
 ],
 "metadata": {
  "kernelspec": {
   "display_name": "Python 2",
   "language": "python",
   "name": "python2"
  },
  "language_info": {
   "codemirror_mode": {
    "name": "ipython",
    "version": 2
   },
   "file_extension": ".py",
   "mimetype": "text/x-python",
   "name": "python",
   "nbconvert_exporter": "python",
   "pygments_lexer": "ipython2",
   "version": "2.7.12"
  }
 },
 "nbformat": 4,
 "nbformat_minor": 2
}
